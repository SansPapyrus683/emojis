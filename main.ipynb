{
 "cells": [
  {
   "cell_type": "code",
   "execution_count": 47,
   "metadata": {
    "is_executing": true
   },
   "outputs": [],
   "source": [
    "import torch\n",
    "from torch.utils import data\n",
    "from tqdm.auto import tqdm\n",
    "\n",
    "from importlib import reload\n",
    "\n",
    "%matplotlib inline"
   ]
  },
  {
   "cell_type": "code",
   "execution_count": 48,
   "metadata": {
    "is_executing": true
   },
   "outputs": [],
   "source": [
    "# import the dataset and loader from data_utils.py\n",
    "import data_utils\n",
    "\n",
    "image_folder_path = \"data/image\"\n",
    "im_dim = 64\n",
    "\n",
    "batch_size = 1\n",
    "# create a dataset so that dataset[i] returns the ith image.\n",
    "rl_data = data_utils.EmojiDataset(image_folder_path, (im_dim, im_dim))\n",
    "# make a dataloader that returns the images as batches for parallel processing\n",
    "rl_loader = data.DataLoader(rl_data, batch_size)\n",
    "#DataLoader will create mini-batches, shuffle data each epoch, and offer performance boosts"
   ]
  },
  {
   "cell_type": "code",
   "execution_count": 49,
   "metadata": {
    "is_executing": true
   },
   "outputs": [],
   "source": [
    "import models\n",
    "\n",
    "reload(models)\n",
    "\n",
    "generator = models.Generator()\n",
    "discriminator = models.Discriminator(im_dim)\n",
    "\n",
    "# use the gpu if available\n",
    "device = torch.device(\"cuda\" if torch.cuda.is_available() else \"cpu\")\n",
    "generator = generator.to(device)\n",
    "discriminator = discriminator.to(device)"
   ]
  },
  {
   "cell_type": "code",
   "execution_count": 50,
   "metadata": {
    "is_executing": true
   },
   "outputs": [],
   "source": [
    "# Initialize the loss function\n",
    "criterion = torch.nn.BCELoss() #This is the loss specified in the GAN paper\n",
    "\n",
    "# Create batch of latent vectors that we will use to visualize the progression of the generator\n",
    "fixed_noise = torch.randn(64, 100, 1, 1, device=device)\n",
    "\n",
    "# Establish convention for real and fake labels during training\n",
    "real_label = 1.\n",
    "fake_label = 0.\n",
    "\n",
    "# set a learning rate\n",
    "lr = 0.1\n",
    "\n",
    "# Setup optimizers for both generator and discriminator\n",
    "optim_d = torch.optim.AdamW(discriminator.parameters(), lr=lr)\n",
    "optim_g = torch.optim.AdamW(generator.parameters(), lr=lr)"
   ]
  },
  {
   "cell_type": "code",
   "execution_count": 51,
   "metadata": {
    "is_executing": true
   },
   "outputs": [],
   "source": [
    "# functions that save and load the model and optimizer\n",
    "save_to = \"./checkpoints/model.pt\"\n",
    "def save(path, gen, disc, op_g, op_d):\n",
    "    torch.save(\n",
    "        {\n",
    "            \"generator_weights\" : gen.state_dict(),\n",
    "            \"discriminator_weights\" : disc.state_dict(),\n",
    "            \"generator_optimizer_weights\" : op_g.state_dict(),\n",
    "            \"discriminator_optimizer_weights\" : op_d.state_dict(),\n",
    "        },\n",
    "        path\n",
    "    )\n",
    "\n",
    "\n",
    "def load(path):\n",
    "    # initialize \n",
    "    dev = torch.device(\"cuda\" if torch.cuda.is_available() else \"cpu\")\n",
    "    checkpoint = torch.load(path)\n",
    "    gen = models.Generator().to(dev)\n",
    "    disc = models.Discriminator().to(dev)\n",
    "\n",
    "    op_d = torch.optim.Adam(gen.parameters(), lr=lr)\n",
    "    op_g = torch.optim.Adam(disc.parameters(), lr=lr)\n",
    "\n",
    "    gen.load_state_dict(checkpoint[\"generator_weights\"])\n",
    "    disc.load_state_dict(checkpoint[\"discriminator_weights\"])\n",
    "    op_g.load_state_dict(checkpoint[\"generator_optimizer_weights\"])\n",
    "    op_d.load_state_dict(checkpoint[\"discriminator_optimizer_weights\"])\n",
    "\n",
    "    return gen, disc, op_g, op_d"
   ]
  },
  {
   "cell_type": "code",
   "execution_count": 52,
   "metadata": {},
   "outputs": [
    {
     "data": {
      "application/vnd.jupyter.widget-view+json": {
       "model_id": "3e79b01641ea495e90da7bc21b211fcd",
       "version_major": 2,
       "version_minor": 0
      },
      "text/plain": [
       "  0%|          | 0/1 [00:00<?, ?it/s]"
      ]
     },
     "metadata": {},
     "output_type": "display_data"
    },
    {
     "name": "stdout",
     "output_type": "stream",
     "text": [
      "torch.Size([1, 100, 32, 32])\n",
      "torch.Size([1, 4, 64, 64])\n"
     ]
    }
   ],
   "source": [
    "generator.train()\n",
    "discriminator.train()\n",
    "\n",
    "rl_tensor = torch.full((batch_size, 1), real_label, device=device)\n",
    "fk_tensor = torch.full((batch_size, 1), fake_label, device=device)\n",
    "d_loss_stats = []\n",
    "g_loss_stats = []\n",
    "g_outputs = []\n",
    "\n",
    "num_epochs = 1\n",
    "for epoch in tqdm(range(1, num_epochs + 1)):\n",
    "    for i, img in enumerate(rl_loader):\n",
    "        ########################################################\n",
    "        # (1) Update D network: maximize log(D(x)) + log(1 - D(G(z)))\n",
    "        #######################################################\n",
    "        ## Train with all-real batch\n",
    "        # Format batch\n",
    "        img = img.to(device)\n",
    "\n",
    "        # Forward pass real batch through D\n",
    "        optim_d.zero_grad()\n",
    "        output = discriminator(img)\n",
    "\n",
    "        # Calculate loss on all-real batch\n",
    "        d_rl_loss = criterion(output, rl_tensor)\n",
    "\n",
    "        ## Train with all-fake batch\n",
    "        # Generate batch of latent vectors\n",
    "        # shape: [batch size, channel #, side length, side length]\n",
    "        latent_vec = torch.randn(batch_size, 100, 32, 32, device=device)\n",
    "\n",
    "        # Generate fake image batch with G\n",
    "        fake_img = generator(latent_vec)\n",
    "\n",
    "        # Classify all fake batch with D\n",
    "        output = discriminator(fake_img)\n",
    "\n",
    "        # Calculate D's loss on the all-fake batch\n",
    "        d_fk_loss = criterion(output, fk_tensor)\n",
    "\n",
    "        # Compute error of D as sum over the fake and the real batches\n",
    "        d_err = d_rl_loss + d_fk_loss\n",
    "        d_err.backward(retain_graph=True)\n",
    "\n",
    "        # Update D\n",
    "        optim_d.step()\n",
    "\n",
    "        ########################################################\n",
    "        # (2) Update G network: maximize log(D(G(z)))\n",
    "        #######################################################\n",
    "        \n",
    "        # Since we just updated D, perform another forward pass of all-fake batch through D\n",
    "        optim_g.zero_grad()\n",
    "        output = discriminator(fake_img)  # updated discriminator!\n",
    "\n",
    "        # Calculate G's loss based on this output\n",
    "        g_loss = criterion(output, rl_tensor)\n",
    "\n",
    "        # Calculate gradients for G\n",
    "        g_loss.backward()\n",
    "\n",
    "        # Update G\n",
    "        optim_g.step()\n",
    "\n",
    "        # # Output training stats\n",
    "        \n",
    "    \n",
    "        # Save Losses for plotting later\n",
    "        d_loss_stats.append((d_fk_loss+d_rl_loss))\n",
    "        g_loss_stats.append(g_loss)\n",
    "\n",
    "        # Check how the generator is doing by saving G's output on fixed_noise\n",
    "        g_outputs.append(fake_img)\n"
   ]
  },
  {
   "cell_type": "code",
   "execution_count": 53,
   "metadata": {},
   "outputs": [],
   "source": [
    "# generate images from the model"
   ]
  }
 ],
 "metadata": {
  "kernelspec": {
   "display_name": "Python 3 (ipykernel)",
   "language": "python",
   "name": "python3"
  },
  "language_info": {
   "codemirror_mode": {
    "name": "ipython",
    "version": 3
   },
   "file_extension": ".py",
   "mimetype": "text/x-python",
   "name": "python",
   "nbconvert_exporter": "python",
   "pygments_lexer": "ipython3",
   "version": "3.11.5"
  }
 },
 "nbformat": 4,
 "nbformat_minor": 4
}
