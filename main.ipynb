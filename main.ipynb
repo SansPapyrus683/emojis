{
 "cells": [
  {
   "cell_type": "code",
   "execution_count": null,
   "metadata": {
    "colab": {
     "base_uri": "https://localhost:8080/"
    },
    "id": "22pUtcSwmObW",
    "outputId": "375e636f-1e6a-4590-f13e-0afab09783d9"
   },
   "outputs": [],
   "source": [
    "import torch\n",
    "import torch.nn as nn\n",
    "import torch.backends.cudnn as cudnn\n",
    "from torchvision import datasets, transforms, utils as vutils\n",
    "import numpy as np\n",
    "import matplotlib.pyplot as plt\n",
    "from tqdm import tqdm\n",
    "\n",
    "cudnn.benchmark = True"
   ]
  },
  {
   "cell_type": "markdown",
   "metadata": {},
   "source": [
    "##  normal gan (worked fine, ig)"
   ]
  },
  {
   "cell_type": "markdown",
   "metadata": {
    "collapsed": false
   },
   "source": [
    "###  data formatting\n",
    "\n",
    "first we have to convert all our rgba images to rgb so pil doesn't freak out"
   ]
  },
  {
   "cell_type": "code",
   "execution_count": null,
   "metadata": {},
   "outputs": [],
   "source": [
    "import os\n",
    "from PIL import Image\n",
    "\n",
    "dataroot = \"data/\"\n",
    "\n",
    "need_conversion = False\n",
    "if need_conversion:\n",
    "    for start, dirs, files in os.walk(dataroot):\n",
    "        for f in files:\n",
    "            path = os.path.join(start, f)\n",
    "            ext = os.path.splitext(path)[1]\n",
    "            if ext in [\".png\", \".jpg\", \".jpeg\"]:\n",
    "                temp_image = Image.open(path)\n",
    "                background = Image.new(\"RGBA\", temp_image.size, (255, 255, 255))\n",
    "                temp_image = temp_image.convert(\"RGBA\")\n",
    "                temp_image = Image.alpha_composite(background, temp_image).convert(\"RGB\")\n",
    "                temp_image.save(path)\n"
   ]
  },
  {
   "cell_type": "markdown",
   "metadata": {},
   "source": [
    "then we make our dataset/dataloader, nothing much here"
   ]
  },
  {
   "cell_type": "code",
   "execution_count": null,
   "metadata": {
    "colab": {
     "base_uri": "https://localhost:8080/",
     "height": 128
    },
    "id": "1xjUj9sCmmGd",
    "outputId": "f499fd94-aa7d-4d76-95c0-d87d0c3cb24b"
   },
   "outputs": [],
   "source": [
    "image_size = 64\n",
    "\n",
    "dataset = datasets.ImageFolder(\n",
    "    root=dataroot,\n",
    "    transform=transforms.Compose([\n",
    "        transforms.Resize(image_size),\n",
    "        transforms.CenterCrop(image_size),\n",
    "        transforms.ToTensor(),\n",
    "        transforms.Normalize((0.5, 0.5, 0.5), (0.5, 0.5, 0.5)),\n",
    "    ])\n",
    ")\n",
    "\n",
    "batch_size = 64\n",
    "workers = 4\n",
    "dataloader = torch.utils.data.DataLoader(\n",
    "    dataset, batch_size=batch_size,\n",
    "    shuffle=True, num_workers=workers\n",
    ")\n",
    "\n",
    "device = torch.device(\"cuda\" if torch.cuda.is_available() else \"cpu\")\n",
    "print(device)\n",
    "\n",
    "# Plot some training images\n",
    "real_batch = next(iter(dataloader))\n",
    "plt.figure(figsize=(8, 8))\n",
    "plt.axis(\"off\")\n",
    "plt.title(\"Training Images\")\n",
    "plt.imshow(np.transpose(vutils.make_grid(real_batch[0].to(device)[:64], padding=2, normalize=True).cpu(), (1, 2, 0)))"
   ]
  },
  {
   "cell_type": "markdown",
   "metadata": {},
   "source": [
    "## model init\n",
    "\n",
    "and here we initialize our generator/discriminator along with their losses/optimizers  \n",
    "their code is stored in `gans.py`"
   ]
  },
  {
   "cell_type": "code",
   "execution_count": null,
   "metadata": {
    "id": "UrX0RVVemnKN"
   },
   "outputs": [],
   "source": [
    "def weights_init(m):\n",
    "    classname = m.__class__.__name__\n",
    "    if classname.find(\"Conv\") != -1:\n",
    "        nn.init.normal_(m.weight.data, 0.0, 0.02)\n",
    "    elif classname.find(\"BatchNorm\") != -1:\n",
    "        nn.init.normal_(m.weight.data, 1.0, 0.02)\n",
    "        nn.init.constant_(m.bias.data, 0)"
   ]
  },
  {
   "cell_type": "code",
   "execution_count": null,
   "metadata": {},
   "outputs": [],
   "source": [
    "nz = 100  # size of gen input\n",
    "ngf = 64  # size of feature maps in generator\n",
    "ndf = 64  # size of feature maps in discriminator\n",
    "nc = 3  # num of channels"
   ]
  },
  {
   "cell_type": "code",
   "execution_count": null,
   "metadata": {
    "colab": {
     "base_uri": "https://localhost:8080/"
    },
    "id": "Z7rfCZTymryq",
    "outputId": "ff31e3bd-095d-4aa1-9e03-ff3ceb75bbc6"
   },
   "outputs": [],
   "source": [
    "from importlib import reload\n",
    "import gans\n",
    "\n",
    "reload(gans)\n",
    "\n",
    "gen = gans.Generator(nc, nz, ngf).to(device)\n",
    "gen_path = \"models/gan/gen.pth\"\n",
    "gen.apply(weights_init)\n",
    "# gen.load_state_dict(torch.load(gen_path))\n",
    "\n",
    "\n",
    "discr = gans.Discriminator(nc, ndf).to(device)\n",
    "discr_path = \"models/gan/discr.pth\"\n",
    "discr.apply(weights_init)\n",
    "# discr.load_state_dict(torch.load(discr_path))"
   ]
  },
  {
   "cell_type": "code",
   "execution_count": null,
   "metadata": {
    "id": "izYxemw4mw2e"
   },
   "outputs": [],
   "source": [
    "criterion = nn.BCELoss()\n",
    "\n",
    "# Create batch of latent vectors that we will use to visualize\n",
    "#  the progression of the generator\n",
    "fixed_noise = torch.randn(64, nz, 1, 1, device=device)\n",
    "\n",
    "# Establish convention for real and fake labels during training\n",
    "real_label = 1.\n",
    "fake_label = 0."
   ]
  },
  {
   "cell_type": "code",
   "execution_count": null,
   "metadata": {
    "collapsed": false
   },
   "outputs": [],
   "source": [
    "lr = 0.0002\n",
    "beta1 = 0.5\n",
    "optim_d = torch.optim.Adam(discr.parameters(), lr=lr, betas=(beta1, 0.999))\n",
    "optim_g = torch.optim.Adam(gen.parameters(), lr=lr, betas=(beta1, 0.999))"
   ]
  },
  {
   "cell_type": "markdown",
   "metadata": {},
   "source": [
    "## training time\n",
    "\n",
    "i loved it when pytorch said \"it's torchin time\" and then torched all over the models"
   ]
  },
  {
   "cell_type": "code",
   "execution_count": null,
   "metadata": {
    "colab": {
     "base_uri": "https://localhost:8080/"
    },
    "id": "c1DbOCo7mz7z",
    "outputId": "0d3880a3-819d-406f-ee30-f71226af7323"
   },
   "outputs": [],
   "source": [
    "img_list = []\n",
    "g_loss = []\n",
    "d_loss = []\n",
    "iters = 0\n",
    "\n",
    "num_epochs = 200\n",
    "for epoch in range(num_epochs):\n",
    "    tqdm_data = tqdm(dataloader)\n",
    "    for i, data in enumerate(tqdm_data):\n",
    "        ############################\n",
    "        # (1) Update D network: maximize log(D(x)) + log(1 - D(G(z)))\n",
    "        ###########################\n",
    "        ## Train with all-real batch\n",
    "        discr.zero_grad()\n",
    "        # Format batch\n",
    "        real_emoji = data[0].to(device)\n",
    "        b_size = real_emoji.size(0)\n",
    "        label = torch.full((b_size, 1), real_label, dtype=torch.float, device=device)\n",
    "        # Forward pass real batch through D\n",
    "        output = discr(real_emoji)\n",
    "        # Calculate loss on all-real batch\n",
    "        err_d_rl = criterion(output, label)\n",
    "        # Calculate gradients for D in backward pass\n",
    "        err_d_rl.backward()\n",
    "\n",
    "        ## Train with all-fake batch\n",
    "        # Generate batch of latent vectors\n",
    "        noise = torch.randn(b_size, nz, 1, 1, device=device)\n",
    "        # Generate fake image batch with G\n",
    "        fake = gen(noise)\n",
    "        label.fill_(fake_label)\n",
    "        \n",
    "        # Classify all fake batch with D\n",
    "        output = discr(fake.detach())\n",
    "        # Calculate D's loss on the all-fake batch\n",
    "        err_d_fk = criterion(output, label)\n",
    "        # Calculate the gradients for this batch, accumulated (summed) with previous gradients\n",
    "        err_d_fk.backward()\n",
    "        # Update D\n",
    "        optim_d.step()\n",
    "\n",
    "        ############################\n",
    "        # (2) Update G network: maximize log(D(G(z)))\n",
    "        ###########################\n",
    "        gen.zero_grad()\n",
    "        # Since we just updated D, perform another forward pass of all-fake batch through D\n",
    "        output = discr(fake)\n",
    "        # Calculate G's loss based on this output\n",
    "        label.fill_(real_label)  # fake labels are real for generator cost\n",
    "        err_g = criterion(output, label)\n",
    "        # Calculate gradients for G\n",
    "        err_g.backward()\n",
    "        # Update G\n",
    "        optim_g.step()\n",
    "\n",
    "        # Output training stats\n",
    "        update = [False, \"\"]\n",
    "        err_d = err_d_rl + err_d_fk\n",
    "        if i % 10 == 0:\n",
    "            update = [\n",
    "                True,\n",
    "                f\"[{epoch + 1}/{num_epochs}][{i}/{len(dataloader)}]\\t\"\n",
    "                f\"d_loss: {err_d.item():.4f}\\tg_loss: {err_g.item():.4f}\"\n",
    "            ]\n",
    "\n",
    "        # Save Losses for plotting later\n",
    "        g_loss.append(err_g.item())\n",
    "        d_loss.append(err_d.item())\n",
    "\n",
    "        # Check how the generator is doing by saving G's output on fixed_noise\n",
    "        if iters % 500 == 0 or (epoch == num_epochs - 1 and i == len(dataloader) - 1):\n",
    "            with torch.no_grad():\n",
    "                fake = gen(fixed_noise).cpu()\n",
    "            img_list.append(vutils.make_grid(fake, padding=2, normalize=True))\n",
    "\n",
    "        iters += 1\n",
    "        if update[0]:\n",
    "            tqdm_data.set_description(update[1])\n",
    "    \n",
    "    torch.save(gen.state_dict(), gen_path)\n",
    "    torch.save(discr.state_dict(), discr_path)\n"
   ]
  },
  {
   "cell_type": "code",
   "execution_count": null,
   "metadata": {
    "colab": {
     "base_uri": "https://localhost:8080/",
     "height": 487
    },
    "id": "fRvk7qRQm16B",
    "outputId": "88d6fe4b-5703-40e8-8802-a67b0e2d65b5"
   },
   "outputs": [],
   "source": [
    "plt.figure(figsize=(10, 5))\n",
    "plt.title(\"Generator and Discriminator Loss During Training\")\n",
    "plt.plot(g_loss, label=\"G\")\n",
    "plt.plot(d_loss, label=\"D\")\n",
    "plt.xlabel(\"Iterations\")\n",
    "plt.ylabel(\"Loss (%)\")\n",
    "plt.legend()\n",
    "plt.show()"
   ]
  },
  {
   "cell_type": "code",
   "execution_count": null,
   "metadata": {
    "colab": {
     "base_uri": "https://localhost:8080/",
     "height": 643
    },
    "id": "9zxXtmCFm5-M",
    "outputId": "ad516658-7fda-4f4e-e845-ab77177d9c9e"
   },
   "outputs": [],
   "source": [
    "# Grab a batch of real images from the dataloader\n",
    "real_batch = next(iter(dataloader))\n",
    "\n",
    "# Plot the real images\n",
    "plt.figure(figsize=(15, 15))\n",
    "plt.subplot(1, 2, 1)\n",
    "plt.axis(\"off\")\n",
    "plt.title(\"Real Images\")\n",
    "plt.imshow(np.transpose(vutils.make_grid(real_batch[0].to(device)[:64], padding=5, normalize=True).cpu(), (1, 2, 0)))\n",
    "\n",
    "# Plot the fake images from the last epoch\n",
    "plt.subplot(1, 2, 2)\n",
    "plt.axis(\"off\")\n",
    "plt.title(\"Fake Images\")\n",
    "plt.imshow(np.transpose(img_list[-1], (1, 2, 0)))\n",
    "plt.show()"
   ]
  },
  {
   "cell_type": "code",
   "execution_count": null,
   "metadata": {
    "id": "zV5uM8Hxm2YK"
   },
   "outputs": [],
   "source": [
    "import matplotlib.animation as animation\n",
    "from IPython.display import HTML\n",
    "\n",
    "fig = plt.figure(figsize=(8, 8))\n",
    "plt.axis(\"off\")\n",
    "ims = [[plt.imshow(np.transpose(i, (1, 2, 0)), animated=True)] for i in img_list]\n",
    "ani = animation.ArtistAnimation(fig, ims, interval=1000, repeat_delay=1000, blit=True)\n",
    "\n",
    "HTML(ani.to_jshtml())"
   ]
  },
  {
   "cell_type": "markdown",
   "metadata": {},
   "source": [
    "# w-gan time (let's hope this works better)"
   ]
  },
  {
   "cell_type": "markdown",
   "metadata": {
    "collapsed": false
   },
   "source": [
    "## construct models\n",
    "and some parameters that the constructors need"
   ]
  },
  {
   "cell_type": "code",
   "execution_count": null,
   "metadata": {
    "collapsed": false
   },
   "outputs": [],
   "source": [
    "nc = 3  # input image channels\n",
    "nz = 100  # size of the latent z vector\n",
    "ng = 64\n",
    "ndf = 64\n",
    "ngf = 64  # Size of feature maps in generator\n",
    "n_extra_layers = 2  # help='Number of extra layers on gen and disc"
   ]
  },
  {
   "cell_type": "code",
   "execution_count": null,
   "metadata": {
    "collapsed": false
   },
   "outputs": [],
   "source": [
    "import wgans\n",
    "\n",
    "wgen_path = \"models/wgan/gen.pth\"\n",
    "mlp_g = False\n",
    "if mlp_g:\n",
    "    gen = wgans.MLPGenerator(image_size, nz, nc, ngf)\n",
    "else:\n",
    "    gen = wgans.DCGANGenerator(image_size, nz, nc, ngf, n_extra_layers)\n",
    "\n",
    "# gen.load_state_dict(wgen_path)\n",
    "gen = gen.to(device)"
   ]
  },
  {
   "cell_type": "code",
   "execution_count": null,
   "metadata": {
    "collapsed": false
   },
   "outputs": [],
   "source": [
    "wdiscr_path = \"models/wgan/discr.pth\"\n",
    "mlp_d = False\n",
    "if mlp_d:\n",
    "    discr = wgans.MLPDiscriminator(image_size, nz, nc, ndf)\n",
    "else:\n",
    "    discr = wgans.DCGANDiscriminator(image_size, nc, ndf, n_extra_layers)\n",
    "\n",
    "# discr.load_state_dict(wdiscr_path)\n",
    "discr = discr.to(device)"
   ]
  },
  {
   "cell_type": "code",
   "execution_count": null,
   "metadata": {
    "collapsed": false
   },
   "outputs": [],
   "source": [
    "adam = True\n",
    "lr_d = 0.00005\n",
    "lr_g = 0.00005\n",
    "beta1 = 0.5\n",
    "\n",
    "if adam:\n",
    "    optim_d = torch.optim.Adam(discr.parameters(), lr=lr_d, betas=(beta1, 0.999))\n",
    "    optim_g = torch.optim.Adam(gen.parameters(), lr=lr_g, betas=(beta1, 0.999))\n",
    "else:\n",
    "    optim_d = torch.optim.RMSprop(discr.parameters(), lr=lr_d)\n",
    "    optim_g = torch.optim.RMSprop(gen.parameters(), lr=lr_g)"
   ]
  },
  {
   "cell_type": "code",
   "execution_count": null,
   "metadata": {
    "collapsed": false
   },
   "outputs": [],
   "source": [
    "fixed_noise = torch.randn((batch_size, nz, 1, 1), device=device)\n",
    "one = torch.tensor([1.], device=device)\n",
    "mone = one * -1"
   ]
  },
  {
   "cell_type": "code",
   "execution_count": null,
   "metadata": {
    "collapsed": false
   },
   "outputs": [],
   "source": [
    "gen_iters = 0\n",
    "img_list = []\n",
    "g_loss = []\n",
    "d_loss = []\n",
    "epochs = 150\n",
    "for epoch in range(epochs):\n",
    "    data_iter = iter(dataloader)\n",
    "    i = 0\n",
    "    pbar = tqdm(total=len(dataloader), position=0, leave=True)\n",
    "    pbar.set_description(\n",
    "        f\"[{epoch}/{epochs}][{i}/{len(dataloader)}][{gen_iters}]\\t\"\n",
    "        f\"d_loss_avg: NA\\tg_loss: NA\"\n",
    "    )\n",
    "    while i < len(dataloader):\n",
    "        ############################\n",
    "        # (1) Update D network\n",
    "        ###########################\n",
    "        d_iters = 100 if gen_iters < 25 or gen_iters % 500 == 0 else 5\n",
    "        \n",
    "        j = 0\n",
    "        err_d_avg = torch.tensor(0)\n",
    "        while j < d_iters and i < len(dataloader):\n",
    "            j += 1\n",
    "\n",
    "            data = next(data_iter)\n",
    "            real_emoji = data[0].to(device)\n",
    "            b_size = real_emoji.size(0)\n",
    "            \n",
    "            i += 1\n",
    "            pbar.update(1)\n",
    "\n",
    "            # train with real\n",
    "            discr.zero_grad()\n",
    "            err_d_rl = -discr(real_emoji)\n",
    "            err_d_rl.backward()\n",
    "\n",
    "            # train with fake\n",
    "            noise = torch.randn(b_size, nz, 1, 1, device=device)\n",
    "            with torch.no_grad():\n",
    "                fake = gen(noise)\n",
    "            err_d_fk = discr(fake)\n",
    "            err_d_fk.backward()\n",
    "            \n",
    "            optim_d.step()\n",
    "            err_d_avg += err_d_rl + err_d_fk\n",
    "\n",
    "        # err_d_avg /= j\n",
    "\n",
    "        ############################\n",
    "        # (2) Update G network\n",
    "        ########################### \n",
    "        gen.zero_grad()\n",
    "        noise = torch.randn(batch_size, nz, 1, 1, device=device)\n",
    "        fake = gen(noise)\n",
    "        err_g = -discr(fake)\n",
    "        err_g.backward()\n",
    "        optim_g.step()\n",
    "\n",
    "        gen_iters += 1\n",
    "        d_loss.append(err_d_avg.item())\n",
    "        g_loss.append(err_g.item())\n",
    "\n",
    "        pbar.set_description(\n",
    "            f\"[{epoch}/{epochs}][{i}/{len(dataloader)}][{gen_iters}]\\t\"\n",
    "            f\"d_loss_avg: {err_d_avg.item():.4f}\\tg_loss: {err_g.item():.4f}\"\n",
    "        )\n",
    "        # real_emoji = real_cpu.mul(0.5).add(0.5)  # what ~kevin\n",
    "\n",
    "        with torch.no_grad():\n",
    "            fake = gen(fixed_noise).cpu()\n",
    "            # fake.data = fake.data.mul(0.5).add(0.5)\n",
    "            img_list.append(vutils.make_grid(fake, padding=2, normalize=True))\n",
    "\n",
    "    # do checkpointing\n",
    "    torch.save(gen.state_dict(), wgen_path)\n",
    "    torch.save(discr.state_dict(), wdiscr_path)"
   ]
  },
  {
   "cell_type": "code",
   "execution_count": null,
   "metadata": {},
   "outputs": [],
   "source": [
    "real_batch = next(iter(dataloader))\n",
    "\n",
    "plt.figure(figsize=(15, 15))\n",
    "plt.subplot(1, 2, 1)\n",
    "plt.axis(\"off\")\n",
    "plt.title(\"Real Images\")\n",
    "plt.imshow(np.transpose(vutils.make_grid(real_batch[0].to(device)[:64], padding=5, normalize=True).cpu(), (1, 2, 0)))\n",
    "\n",
    "# show the fake images again just like last time\n",
    "plt.subplot(1, 2, 2)\n",
    "plt.axis(\"off\")\n",
    "plt.title(\"Fake Images\")\n",
    "plt.imshow(np.transpose(img_list[-1], (1, 2, 0)))\n",
    "plt.show()"
   ]
  }
 ],
 "metadata": {
  "accelerator": "GPU",
  "colab": {
   "gpuType": "T4",
   "provenance": []
  },
  "kernelspec": {
   "display_name": "Python 3 (ipykernel)",
   "language": "python",
   "name": "python3"
  },
  "language_info": {
   "codemirror_mode": {
    "name": "ipython",
    "version": 3
   },
   "file_extension": ".py",
   "mimetype": "text/x-python",
   "name": "python",
   "nbconvert_exporter": "python",
   "pygments_lexer": "ipython3",
   "version": "3.10.12"
  }
 },
 "nbformat": 4,
 "nbformat_minor": 0
}
