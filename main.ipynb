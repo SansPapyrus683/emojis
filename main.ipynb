{
 "cells": [
  {
   "cell_type": "code",
   "execution_count": 1,
   "metadata": {
    "is_executing": true
   },
   "outputs": [],
   "source": [
    "import torch\n",
    "from torch.utils import data\n",
    "from tqdm.auto import tqdm\n",
    "\n",
    "from importlib import reload\n",
    "\n",
    "%matplotlib inline"
   ]
  },
  {
   "cell_type": "code",
   "execution_count": 2,
   "metadata": {
    "is_executing": true
   },
   "outputs": [],
   "source": [
    "# import the dataset and loader from data_utils.py\n",
    "import data_utils\n",
    "\n",
    "image_folder_path = \"data/image\"\n",
    "im_dim = 64\n",
    "\n",
    "batch_size = 1\n",
    "# create a dataset so that dataset[i] returns the ith image\n",
    "rl_data = data_utils.EmojiDataset(image_folder_path, (im_dim, im_dim))\n",
    "# make a dataloader that returns the images as batches for parallel processing\n",
    "rl_loader = data.DataLoader(rl_data, batch_size)"
   ]
  },
  {
   "cell_type": "code",
   "execution_count": 3,
   "metadata": {
    "is_executing": true
   },
   "outputs": [],
   "source": [
    "import models\n",
    "\n",
    "reload(models)\n",
    "\n",
    "generator = models.Generator(im_dim)\n",
    "discriminator = models.Discriminator(im_dim)\n",
    "\n",
    "# use the gpu if available\n",
    "device = torch.device(\"cuda\" if torch.cuda.is_available() else \"cpu\")\n",
    "generator = generator.to(device)\n",
    "discriminator = discriminator.to(device)"
   ]
  },
  {
   "cell_type": "code",
   "execution_count": 4,
   "metadata": {
    "is_executing": true
   },
   "outputs": [],
   "source": [
    "# Initialize the loss function\n",
    "criterion = torch.nn.BCELoss()\n",
    "\n",
    "# Create batch of latent vectors that we will use to visualize the progression of the generator\n",
    "fixed_noise = torch.randn(64, 100, 1, 1, device=device)\n",
    "\n",
    "# Establish convention for real and fake labels during training\n",
    "real_label = 1.\n",
    "fake_label = 0.\n",
    "\n",
    "# set a learning rate\n",
    "lr = 0.1\n",
    "\n",
    "# Setup optimizers for both generator and discriminator\n",
    "optim_d = torch.optim.AdamW(discriminator.parameters(), lr=lr)\n",
    "optim_g = torch.optim.AdamW(generator.parameters(), lr=lr)"
   ]
  },
  {
   "cell_type": "code",
   "execution_count": 5,
   "metadata": {
    "is_executing": true
   },
   "outputs": [],
   "source": [
    "# functions that save and load the model and optimizer\n",
    "save_to = \"./checkpoints/model.pt\"\n",
    "def save(path, gen, disc, op_g, op_d):\n",
    "    torch.save(\n",
    "        {\n",
    "            \"generator_weights\" : gen.state_dict(),\n",
    "            \"discriminator_weights\" : disc.state_dict(),\n",
    "            \"generator_optimizer_weights\" : op_g.state_dict(),\n",
    "            \"discriminator_optimizer_weights\" : op_d.state_dict(),\n",
    "        },\n",
    "        path\n",
    "    )\n",
    "\n",
    "\n",
    "def load(path):\n",
    "    # initialize \n",
    "    dev = torch.device(\"cuda\" if torch.cuda.is_available() else \"cpu\")\n",
    "    checkpoint = torch.load(path)\n",
    "    gen = models.Generator().to(dev)\n",
    "    disc = models.Discriminator().to(dev)\n",
    "\n",
    "    op_d = torch.optim.Adam(gen.parameters(), lr=lr)\n",
    "    op_g = torch.optim.Adam(disc.parameters(), lr=lr)\n",
    "\n",
    "    gen.load_state_dict(checkpoint[\"generator_weights\"])\n",
    "    disc.load_state_dict(checkpoint[\"discriminator_weights\"])\n",
    "    op_g.load_state_dict(checkpoint[\"generator_optimizer_weights\"])\n",
    "    op_d.load_state_dict(checkpoint[\"discriminator_optimizer_weights\"])\n",
    "\n",
    "    return gen, disc, op_g, op_d"
   ]
  },
  {
   "cell_type": "code",
   "execution_count": 7,
   "metadata": {},
   "outputs": [
    {
     "data": {
      "application/vnd.jupyter.widget-view+json": {
       "model_id": "a664e46dac71497c8f79fe33b5db2092",
       "version_major": 2,
       "version_minor": 0
      },
      "text/plain": [
       "  0%|          | 0/10 [00:00<?, ?it/s]"
      ]
     },
     "metadata": {},
     "output_type": "display_data"
    },
    {
     "ename": "KeyboardInterrupt",
     "evalue": "",
     "output_type": "error",
     "traceback": [
      "\u001b[0;31m---------------------------------------------------------------------------\u001b[0m",
      "\u001b[0;31mKeyboardInterrupt\u001b[0m                         Traceback (most recent call last)",
      "\u001b[1;32m/home/sanspapyrus683/GitHub/emojis/main.ipynb Cell 6\u001b[0m line \u001b[0;36m2\n\u001b[1;32m     <a href='vscode-notebook-cell://wsl%2Bubuntu/home/sanspapyrus683/GitHub/emojis/main.ipynb#W5sdnNjb2RlLXJlbW90ZQ%3D%3D?line=21'>22</a>\u001b[0m losses\u001b[39m.\u001b[39mappend(loss)\n\u001b[1;32m     <a href='vscode-notebook-cell://wsl%2Bubuntu/home/sanspapyrus683/GitHub/emojis/main.ipynb#W5sdnNjb2RlLXJlbW90ZQ%3D%3D?line=23'>24</a>\u001b[0m \u001b[39m# Calculate gradients for D in backward pass\u001b[39;00m\n\u001b[0;32m---> <a href='vscode-notebook-cell://wsl%2Bubuntu/home/sanspapyrus683/GitHub/emojis/main.ipynb#W5sdnNjb2RlLXJlbW90ZQ%3D%3D?line=24'>25</a>\u001b[0m loss\u001b[39m.\u001b[39;49mbackward()\n\u001b[1;32m     <a href='vscode-notebook-cell://wsl%2Bubuntu/home/sanspapyrus683/GitHub/emojis/main.ipynb#W5sdnNjb2RlLXJlbW90ZQ%3D%3D?line=25'>26</a>\u001b[0m optim_d\u001b[39m.\u001b[39mstep()\n\u001b[1;32m     <a href='vscode-notebook-cell://wsl%2Bubuntu/home/sanspapyrus683/GitHub/emojis/main.ipynb#W5sdnNjb2RlLXJlbW90ZQ%3D%3D?line=27'>28</a>\u001b[0m \u001b[39mcontinue\u001b[39;00m\n",
      "File \u001b[0;32m~/.local/lib/python3.10/site-packages/torch/_tensor.py:492\u001b[0m, in \u001b[0;36mTensor.backward\u001b[0;34m(self, gradient, retain_graph, create_graph, inputs)\u001b[0m\n\u001b[1;32m    482\u001b[0m \u001b[39mif\u001b[39;00m has_torch_function_unary(\u001b[39mself\u001b[39m):\n\u001b[1;32m    483\u001b[0m     \u001b[39mreturn\u001b[39;00m handle_torch_function(\n\u001b[1;32m    484\u001b[0m         Tensor\u001b[39m.\u001b[39mbackward,\n\u001b[1;32m    485\u001b[0m         (\u001b[39mself\u001b[39m,),\n\u001b[0;32m   (...)\u001b[0m\n\u001b[1;32m    490\u001b[0m         inputs\u001b[39m=\u001b[39minputs,\n\u001b[1;32m    491\u001b[0m     )\n\u001b[0;32m--> 492\u001b[0m torch\u001b[39m.\u001b[39;49mautograd\u001b[39m.\u001b[39;49mbackward(\n\u001b[1;32m    493\u001b[0m     \u001b[39mself\u001b[39;49m, gradient, retain_graph, create_graph, inputs\u001b[39m=\u001b[39;49minputs\n\u001b[1;32m    494\u001b[0m )\n",
      "File \u001b[0;32m~/.local/lib/python3.10/site-packages/torch/autograd/__init__.py:251\u001b[0m, in \u001b[0;36mbackward\u001b[0;34m(tensors, grad_tensors, retain_graph, create_graph, grad_variables, inputs)\u001b[0m\n\u001b[1;32m    246\u001b[0m     retain_graph \u001b[39m=\u001b[39m create_graph\n\u001b[1;32m    248\u001b[0m \u001b[39m# The reason we repeat the same comment below is that\u001b[39;00m\n\u001b[1;32m    249\u001b[0m \u001b[39m# some Python versions print out the first line of a multi-line function\u001b[39;00m\n\u001b[1;32m    250\u001b[0m \u001b[39m# calls in the traceback and some print out the last line\u001b[39;00m\n\u001b[0;32m--> 251\u001b[0m Variable\u001b[39m.\u001b[39;49m_execution_engine\u001b[39m.\u001b[39;49mrun_backward(  \u001b[39m# Calls into the C++ engine to run the backward pass\u001b[39;49;00m\n\u001b[1;32m    252\u001b[0m     tensors,\n\u001b[1;32m    253\u001b[0m     grad_tensors_,\n\u001b[1;32m    254\u001b[0m     retain_graph,\n\u001b[1;32m    255\u001b[0m     create_graph,\n\u001b[1;32m    256\u001b[0m     inputs,\n\u001b[1;32m    257\u001b[0m     allow_unreachable\u001b[39m=\u001b[39;49m\u001b[39mTrue\u001b[39;49;00m,\n\u001b[1;32m    258\u001b[0m     accumulate_grad\u001b[39m=\u001b[39;49m\u001b[39mTrue\u001b[39;49;00m,\n\u001b[1;32m    259\u001b[0m )\n",
      "\u001b[0;31mKeyboardInterrupt\u001b[0m: "
     ]
    }
   ],
   "source": [
    "generator.train()\n",
    "discriminator.train()\n",
    "\n",
    "num_epochs = 1\n",
    "for epoch in tqdm(range(1, num_epochs + 1)):\n",
    "    losses = []\n",
    "    for i, img in enumerate(rl_loader):\n",
    "        ########################################################\n",
    "        # (1) Update D network: maximize log(D(x)) + log(1 - D(G(z)))\n",
    "        #######################################################\n",
    "        ## Train with all-real batch\n",
    "        # Format batch\n",
    "        img = img.to(device)\n",
    "\n",
    "        # Forward pass real batch through D\n",
    "        optim_d.zero_grad()\n",
    "        output = discriminator(img)\n",
    "\n",
    "        # Calculate loss on all-real batch\n",
    "        label = torch.tensor([[real_label]]).to(device)\n",
    "        d_rl_loss = criterion(output, label)\n",
    "        losses.append(d_rl_loss)\n",
    "\n",
    "        # Calculate gradients for D in backward pass\n",
    "        d_rl_loss.backward()\n",
    "        optim_d.step()\n",
    "\n",
    "        ## Train with all-fake batch\n",
    "        # Generate batch of latent vectors\n",
    "        fake_amt = 1\n",
    "        latent_vec = torch.randn(fake_amt, 64, 100, 4, device=device)\n",
    "\n",
    "        # Generate fake image batch with G\n",
    "        optim_g.zero_grad()\n",
    "        fake_img = generator(latent_vec)\n",
    "\n",
    "        # Classify all fake batch with D\n",
    "        optim_g.zero_grad()\n",
    "        output = discriminator(fake_img)\n",
    "\n",
    "        # Calculate D's loss on the all-fake batch\n",
    "        d_fk_loss = criterion(output, torch.tensor(fake_label))\n",
    "\n",
    "        # Calculate the gradients for this batch, accumulated (summed) with previous gradients\n",
    "        d_fk_loss.backward()\n",
    "\n",
    "        # Compute error of D as sum over the fake and the real batches\n",
    "        d_err = d_rl_loss + d_fk_loss\n",
    "\n",
    "        break\n",
    "\n",
    "        # Update D\n",
    "\n",
    "        ########################################################\n",
    "        # (2) Update G network: maximize log(D(G(z)))\n",
    "        #######################################################\n",
    "        \n",
    "        # Since we just updated D, perform another forward pass of all-fake batch through D\n",
    "\n",
    "        # Calculate G's loss based on this output\n",
    "\n",
    "        # Calculate gradients for G\n",
    "\n",
    "        # Update G\n",
    "\n",
    "        # # Output training stats\n",
    "       \n",
    "        # Save Losses for plotting later\n",
    "\n",
    "        # Check how the generator is doing by saving G's output on fixed_noise\n",
    "\n",
    "    print(losses[0], losses[-1])\n"
   ]
  },
  {
   "cell_type": "code",
   "execution_count": null,
   "metadata": {},
   "outputs": [],
   "source": [
    "# generate images from the model"
   ]
  }
 ],
 "metadata": {
  "kernelspec": {
   "display_name": "Python 3 (ipykernel)",
   "language": "python",
   "name": "python3"
  },
  "language_info": {
   "codemirror_mode": {
    "name": "ipython",
    "version": 3
   },
   "file_extension": ".py",
   "mimetype": "text/x-python",
   "name": "python",
   "nbconvert_exporter": "python",
   "pygments_lexer": "ipython3",
   "version": "3.10.12"
  }
 },
 "nbformat": 4,
 "nbformat_minor": 4
}
