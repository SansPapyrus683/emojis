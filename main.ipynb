{
 "cells": [
  {
   "cell_type": "code",
   "execution_count": 1,
   "metadata": {
    "is_executing": true
   },
   "outputs": [],
   "source": [
    "import torch\n",
    "from torch.utils import data\n",
    "from tqdm.auto import tqdm\n",
    "import matplotlib.pyplot as plt\n",
    "\n",
    "from importlib import reload\n",
    "\n",
    "%matplotlib inline"
   ]
  },
  {
   "cell_type": "code",
   "execution_count": 2,
   "metadata": {
    "is_executing": true
   },
   "outputs": [],
   "source": [
    "# import the dataset and loader from data_utils.py\n",
    "import data_utils\n",
    "\n",
    "image_folder_path = \"data/image\"\n",
    "SIDE = 64\n",
    "\n",
    "batch_size = 32\n",
    "# create a dataset so that dataset[i] returns the ith image\n",
    "rl_data = data_utils.EmojiDataset(image_folder_path, (SIDE, SIDE))\n",
    "# make a dataloader that returns the images as batches for parallel processing\n",
    "rl_loader = data.DataLoader(rl_data, batch_size)\n",
    "#DataLoader will create mini-batches, shuffle data each epoch, and offer performance boosts"
   ]
  },
  {
   "cell_type": "code",
   "execution_count": 3,
   "metadata": {
    "is_executing": true
   },
   "outputs": [],
   "source": [
    "import models\n",
    "\n",
    "reload(models)\n",
    "\n",
    "gen_in = 100\n",
    "generator = models.Generator64(gen_in)\n",
    "discriminator = models.Discrim64()\n",
    "\n",
    "# use the gpu if available\n",
    "device = torch.device(\"cuda\" if torch.cuda.is_available() else \"cpu\")\n",
    "\n",
    "generator = generator.to(device)\n",
    "discriminator = discriminator.to(device)"
   ]
  },
  {
   "cell_type": "code",
   "execution_count": 4,
   "metadata": {
    "is_executing": true
   },
   "outputs": [],
   "source": [
    "# Initialize the loss function\n",
    "criterion = torch.nn.BCELoss() #This is the loss specified in the GAN paper\n",
    "\n",
    "# Create batch of latent vectors that we will use to visualize the progression of the generator\n",
    "img_num = 25\n",
    "fixed_noise = torch.randn(img_num, gen_in, 1, 1, device=device)\n",
    "\n",
    "# Establish convention for real and fake labels during training\n",
    "real_label = 1.\n",
    "fake_label = 0.\n",
    "\n",
    "# set a learning rate\n",
    "lr = 0.01\n",
    "\n",
    "# Setup optimizers for both generator and discriminator\n",
    "optim_d = torch.optim.AdamW(discriminator.parameters(), lr=lr)\n",
    "optim_g = torch.optim.AdamW(generator.parameters(), lr=lr)"
   ]
  },
  {
   "cell_type": "code",
   "execution_count": 5,
   "metadata": {
    "is_executing": true
   },
   "outputs": [],
   "source": [
    "# functions that save and load the model and optimizer\n",
    "save_to = \"./checkpoints/model.pt\"\n",
    "def save(path, gen, disc, op_g, op_d):\n",
    "    torch.save(\n",
    "        {\n",
    "            \"generator_weights\" : gen.state_dict(),\n",
    "            \"discriminator_weights\" : disc.state_dict(),\n",
    "            \"generator_optimizer_weights\" : op_g.state_dict(),\n",
    "            \"discriminator_optimizer_weights\" : op_d.state_dict(),\n",
    "        },\n",
    "        path\n",
    "    )\n",
    "\n",
    "\n",
    "def load(path):\n",
    "    # initialize \n",
    "    dev = torch.device(\"cuda\" if torch.cuda.is_available() else \"cpu\")\n",
    "    checkpoint = torch.load(path)\n",
    "    gen = models.Generator64().to(dev)\n",
    "    disc = models.Discrim64().to(dev)\n",
    "\n",
    "    op_d = torch.optim.AdamW(gen.parameters(), lr=lr)\n",
    "    op_g = torch.optim.AdamW(disc.parameters(), lr=lr)\n",
    "\n",
    "    gen.load_state_dict(checkpoint[\"generator_weights\"])\n",
    "    disc.load_state_dict(checkpoint[\"discriminator_weights\"])\n",
    "    op_g.load_state_dict(checkpoint[\"generator_optimizer_weights\"])\n",
    "    op_d.load_state_dict(checkpoint[\"discriminator_optimizer_weights\"])\n",
    "\n",
    "    return gen, disc, op_g, op_d"
   ]
  },
  {
   "cell_type": "code",
   "execution_count": 6,
   "metadata": {},
   "outputs": [
    {
     "data": {
      "application/vnd.jupyter.widget-view+json": {
       "model_id": "08e304ccaf31449f966c6fddd9f4fb09",
       "version_major": 2,
       "version_minor": 0
      },
      "text/plain": [
       "  0%|          | 0/100 [00:00<?, ?it/s]"
      ]
     },
     "metadata": {},
     "output_type": "display_data"
    },
    {
     "ename": "KeyboardInterrupt",
     "evalue": "",
     "output_type": "error",
     "traceback": [
      "\u001b[0;31m---------------------------------------------------------------------------\u001b[0m",
      "\u001b[0;31mKeyboardInterrupt\u001b[0m                         Traceback (most recent call last)",
      "\u001b[0;32m/tmp/ipykernel_7460/2791622673.py\u001b[0m in \u001b[0;36m<module>\u001b[0;34m\u001b[0m\n\u001b[1;32m     18\u001b[0m         \u001b[0;31m## Train with all-real batch\u001b[0m\u001b[0;34m\u001b[0m\u001b[0;34m\u001b[0m\u001b[0m\n\u001b[1;32m     19\u001b[0m         \u001b[0;31m# Format batch\u001b[0m\u001b[0;34m\u001b[0m\u001b[0;34m\u001b[0m\u001b[0m\n\u001b[0;32m---> 20\u001b[0;31m         \u001b[0mrl\u001b[0m \u001b[0;34m=\u001b[0m \u001b[0mrl\u001b[0m\u001b[0;34m.\u001b[0m\u001b[0mto\u001b[0m\u001b[0;34m(\u001b[0m\u001b[0mdevice\u001b[0m\u001b[0;34m)\u001b[0m\u001b[0;34m\u001b[0m\u001b[0;34m\u001b[0m\u001b[0m\n\u001b[0m\u001b[1;32m     21\u001b[0m \u001b[0;34m\u001b[0m\u001b[0m\n\u001b[1;32m     22\u001b[0m         \u001b[0;31m# Forward pass real batch through D\u001b[0m\u001b[0;34m\u001b[0m\u001b[0;34m\u001b[0m\u001b[0m\n",
      "\u001b[0;31mKeyboardInterrupt\u001b[0m: "
     ]
    }
   ],
   "source": [
    "generator.train()\n",
    "discriminator.train()\n",
    "\n",
    "rl_tensor = torch.full((batch_size, 1), real_label, device=device)\n",
    "rl_rem_tensor = torch.full((len(rl_data) % batch_size, 1), real_label, device=device)\n",
    "\n",
    "fk_tensor = torch.full((batch_size, 1), fake_label, device=device)\n",
    "d_loss_stats = []\n",
    "g_loss_stats = []\n",
    "g_outputs = []\n",
    "\n",
    "num_epochs = 100\n",
    "for epoch in tqdm(range(1, num_epochs + 1)):\n",
    "    for i, rl in enumerate(rl_loader):\n",
    "        ########################################################\n",
    "        # (1) Update D network: maximize log(D(x)) + log(1 - D(G(z)))\n",
    "        #######################################################\n",
    "        ## Train with all-real batch\n",
    "        # Format batch\n",
    "        rl = rl.to(device)\n",
    "\n",
    "        # Forward pass real batch through D\n",
    "        optim_d.zero_grad()\n",
    "        output = discriminator(rl)\n",
    "\n",
    "        # Calculate loss on all-real batch\n",
    "        if output.shape[0] != batch_size:\n",
    "            d_rl_loss = criterion(output, rl_rem_tensor)\n",
    "        else:\n",
    "            d_rl_loss = criterion(output, rl_tensor)\n",
    "\n",
    "        ## Train with all-fake batch\n",
    "        # Generate batch of latent vectors\n",
    "        # shape: [batch size, channel #, side length, side length]\n",
    "        latent_vec = torch.randn(batch_size, gen_in, 1, 1, device=device)\n",
    "\n",
    "        # Generate fake image batch with G\n",
    "        fake_img = generator(latent_vec)\n",
    "\n",
    "        # Classify all fake batch with D\n",
    "        output = discriminator(fake_img)\n",
    "\n",
    "        # Calculate D's loss on the all-fake batch\n",
    "        d_fk_loss = criterion(output, fk_tensor)\n",
    "\n",
    "        # Compute error of D as sum over the fake and the real batches\n",
    "        d_err = d_rl_loss + d_fk_loss\n",
    "        d_err.backward(retain_graph=True)\n",
    "\n",
    "        # Update D\n",
    "        optim_d.step()\n",
    "\n",
    "        ########################################################\n",
    "        # (2) Update G network: maximize log(D(G(z)))\n",
    "        #######################################################\n",
    "        \n",
    "        # Since we just updated D, perform another forward pass of all-fake batch through D\n",
    "        optim_g.zero_grad()\n",
    "        output = discriminator(fake_img)  # updated discriminator!\n",
    "\n",
    "        # Calculate G's loss based on this output\n",
    "        g_loss = criterion(output, rl_tensor)\n",
    "\n",
    "        # Calculate gradients for G\n",
    "        g_loss.backward()\n",
    "\n",
    "        # Update G\n",
    "        optim_g.step()\n"
   ]
  },
  {
   "cell_type": "code",
   "execution_count": null,
   "metadata": {},
   "outputs": [
    {
     "data": {
      "image/png": "[encoded data removed]",
      "text/plain": [
       "<Figure size 800x800 with 4 Axes>"
      ]
     },
     "metadata": {},
     "output_type": "display_data"
    }
   ],
   "source": [
    "# generate images from the model\n",
    "gen_output = generator(fixed_noise)\n",
    "side = int(img_num ** 0.5)\n",
    "side = 2\n",
    "fig, axes = plt.subplots(side, side, figsize=(8, 8))\n",
    "\n",
    "for i in range(side):\n",
    "    for j in range(side):\n",
    "        img = (gen_output[side * i + j]).cpu().detach()\n",
    "        img = torch.moveaxis(img, 0, 2)\n",
    "        axes[i, j].imshow(img)\n",
    "        axes[i, j].set_xticks([])\n",
    "        axes[i, j].set_yticks([])\n",
    "\n",
    "plt.tight_layout()\n",
    "plt.show()"
   ]
  }
 ],
 "metadata": {
  "kernelspec": {
   "display_name": "Python 3 (ipykernel)",
   "language": "python",
   "name": "python3"
  },
  "language_info": {
   "codemirror_mode": {
    "name": "ipython",
    "version": 3
   },
   "file_extension": ".py",
   "mimetype": "text/x-python",
   "name": "python",
   "nbconvert_exporter": "python",
   "pygments_lexer": "ipython3",
   "version": "3.10.12"
  }
 },
 "nbformat": 4,
 "nbformat_minor": 4
}
